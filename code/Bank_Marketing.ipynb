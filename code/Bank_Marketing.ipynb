{
  "nbformat": 4,
  "nbformat_minor": 0,
  "metadata": {
    "colab": {
      "name": "Bank Marketing.ipynb",
      "provenance": []
    },
    "kernelspec": {
      "name": "python3",
      "display_name": "Python 3"
    },
    "accelerator": "GPU"
  },
  "cells": [
    {
      "cell_type": "code",
      "metadata": {
        "id": "fB9yYaUPlnUn",
        "colab_type": "code",
        "colab": {
          "resources": {
            "http://localhost:8080/nbextensions/google.colab/files.js": {
              "data": "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",
              "ok": true,
              "headers": [
                [
                  "content-type",
                  "application/javascript"
                ]
              ],
              "status": 200,
              "status_text": ""
            }
          },
          "base_uri": "https://localhost:8080/",
          "height": 86
        },
        "outputId": "5cbace9b-b784-4b3e-cbc7-ea680112e9b6"
      },
      "source": [
        "from google.colab import files\n",
        "files.upload()"
      ],
      "execution_count": 1,
      "outputs": [
        {
          "output_type": "display_data",
          "data": {
            "text/html": [
              "\n",
              "     <input type=\"file\" id=\"files-93e815d7-5dd9-4823-ad73-92a6bc59dd2f\" name=\"files[]\" multiple disabled\n",
              "        style=\"border:none\" />\n",
              "     <output id=\"result-93e815d7-5dd9-4823-ad73-92a6bc59dd2f\">\n",
              "      Upload widget is only available when the cell has been executed in the\n",
              "      current browser session. Please rerun this cell to enable.\n",
              "      </output>\n",
              "      <script src=\"/nbextensions/google.colab/files.js\"></script> "
            ],
            "text/plain": [
              "<IPython.core.display.HTML object>"
            ]
          },
          "metadata": {
            "tags": []
          }
        },
        {
          "output_type": "stream",
          "text": [
            "Saving kaggle.json to kaggle.json\n"
          ],
          "name": "stdout"
        },
        {
          "output_type": "execute_result",
          "data": {
            "text/plain": [
              "{'kaggle.json': b'{\"username\":\"ahmdtolba\",\"key\":\"673c2a77db3050f1684f02ce08726ccc\"}'}"
            ]
          },
          "metadata": {
            "tags": []
          },
          "execution_count": 1
        }
      ]
    },
    {
      "cell_type": "code",
      "metadata": {
        "id": "nFGAuRt0mF7_",
        "colab_type": "code",
        "colab": {}
      },
      "source": [
        "!pip install -q kaggle\n",
        "\n",
        "!mkdir -p ~/.kaggle\n",
        "!cp kaggle.json ~/.kaggle/\n",
        "\n",
        "# This permissions change avoids a warning on Kaggle tool startup.\n",
        "!chmod 600 ~/.kaggle/kaggle.json"
      ],
      "execution_count": 2,
      "outputs": []
    },
    {
      "cell_type": "code",
      "metadata": {
        "id": "Wy4qVUOxmIxJ",
        "colab_type": "code",
        "colab": {
          "base_uri": "https://localhost:8080/",
          "height": 66
        },
        "outputId": "542d610b-5f1a-4958-d2aa-b37639c3d393"
      },
      "source": [
        "!kaggle datasets download -d janiobachmann/bank-marketing-dataset"
      ],
      "execution_count": 3,
      "outputs": [
        {
          "output_type": "stream",
          "text": [
            "Downloading bank-marketing-dataset.zip to /content\n",
            "\r  0% 0.00/142k [00:00<?, ?B/s]\n",
            "\r100% 142k/142k [00:00<00:00, 62.1MB/s]\n"
          ],
          "name": "stdout"
        }
      ]
    },
    {
      "cell_type": "code",
      "metadata": {
        "id": "r39NnhCmmSua",
        "colab_type": "code",
        "colab": {}
      },
      "source": [
        "from zipfile import ZipFile\n",
        "file_name='/content/bank-marketing-dataset.zip'\n",
        "with ZipFile(file_name,'r') as zip:\n",
        "  zip.extractall()"
      ],
      "execution_count": 4,
      "outputs": []
    },
    {
      "cell_type": "code",
      "metadata": {
        "id": "Lqn6mB8amX4y",
        "colab_type": "code",
        "colab": {
          "base_uri": "https://localhost:8080/",
          "height": 70
        },
        "outputId": "3ab0ecf1-1954-4be2-a2a9-d6d97284dadd"
      },
      "source": [
        "import numpy as np # linear algebra\n",
        "import pandas as pd # data processing, CSV file I/O (e.g. pd.read_csv)\n",
        "import matplotlib.pyplot as plt\n",
        "import seaborn as sns"
      ],
      "execution_count": 5,
      "outputs": [
        {
          "output_type": "stream",
          "text": [
            "/usr/local/lib/python3.6/dist-packages/statsmodels/tools/_testing.py:19: FutureWarning: pandas.util.testing is deprecated. Use the functions in the public API at pandas.testing instead.\n",
            "  import pandas.util.testing as tm\n"
          ],
          "name": "stderr"
        }
      ]
    },
    {
      "cell_type": "code",
      "metadata": {
        "id": "RFwF80HTmkze",
        "colab_type": "code",
        "colab": {}
      },
      "source": [
        "data = pd.read_csv('/content/bank.csv')\n"
      ],
      "execution_count": 6,
      "outputs": []
    },
    {
      "cell_type": "code",
      "metadata": {
        "id": "ubE-fMj4muzK",
        "colab_type": "code",
        "colab": {
          "base_uri": "https://localhost:8080/",
          "height": 191
        },
        "outputId": "8adddf8a-3c1a-46eb-dfd4-4e45e27104e5"
      },
      "source": [
        "data.head()"
      ],
      "execution_count": 7,
      "outputs": [
        {
          "output_type": "execute_result",
          "data": {
            "text/html": [
              "<div>\n",
              "<style scoped>\n",
              "    .dataframe tbody tr th:only-of-type {\n",
              "        vertical-align: middle;\n",
              "    }\n",
              "\n",
              "    .dataframe tbody tr th {\n",
              "        vertical-align: top;\n",
              "    }\n",
              "\n",
              "    .dataframe thead th {\n",
              "        text-align: right;\n",
              "    }\n",
              "</style>\n",
              "<table border=\"1\" class=\"dataframe\">\n",
              "  <thead>\n",
              "    <tr style=\"text-align: right;\">\n",
              "      <th></th>\n",
              "      <th>age</th>\n",
              "      <th>job</th>\n",
              "      <th>marital</th>\n",
              "      <th>education</th>\n",
              "      <th>default</th>\n",
              "      <th>balance</th>\n",
              "      <th>housing</th>\n",
              "      <th>loan</th>\n",
              "      <th>contact</th>\n",
              "      <th>day</th>\n",
              "      <th>month</th>\n",
              "      <th>duration</th>\n",
              "      <th>campaign</th>\n",
              "      <th>pdays</th>\n",
              "      <th>previous</th>\n",
              "      <th>poutcome</th>\n",
              "      <th>deposit</th>\n",
              "    </tr>\n",
              "  </thead>\n",
              "  <tbody>\n",
              "    <tr>\n",
              "      <th>0</th>\n",
              "      <td>59</td>\n",
              "      <td>admin.</td>\n",
              "      <td>married</td>\n",
              "      <td>secondary</td>\n",
              "      <td>no</td>\n",
              "      <td>2343</td>\n",
              "      <td>yes</td>\n",
              "      <td>no</td>\n",
              "      <td>unknown</td>\n",
              "      <td>5</td>\n",
              "      <td>may</td>\n",
              "      <td>1042</td>\n",
              "      <td>1</td>\n",
              "      <td>-1</td>\n",
              "      <td>0</td>\n",
              "      <td>unknown</td>\n",
              "      <td>yes</td>\n",
              "    </tr>\n",
              "    <tr>\n",
              "      <th>1</th>\n",
              "      <td>56</td>\n",
              "      <td>admin.</td>\n",
              "      <td>married</td>\n",
              "      <td>secondary</td>\n",
              "      <td>no</td>\n",
              "      <td>45</td>\n",
              "      <td>no</td>\n",
              "      <td>no</td>\n",
              "      <td>unknown</td>\n",
              "      <td>5</td>\n",
              "      <td>may</td>\n",
              "      <td>1467</td>\n",
              "      <td>1</td>\n",
              "      <td>-1</td>\n",
              "      <td>0</td>\n",
              "      <td>unknown</td>\n",
              "      <td>yes</td>\n",
              "    </tr>\n",
              "    <tr>\n",
              "      <th>2</th>\n",
              "      <td>41</td>\n",
              "      <td>technician</td>\n",
              "      <td>married</td>\n",
              "      <td>secondary</td>\n",
              "      <td>no</td>\n",
              "      <td>1270</td>\n",
              "      <td>yes</td>\n",
              "      <td>no</td>\n",
              "      <td>unknown</td>\n",
              "      <td>5</td>\n",
              "      <td>may</td>\n",
              "      <td>1389</td>\n",
              "      <td>1</td>\n",
              "      <td>-1</td>\n",
              "      <td>0</td>\n",
              "      <td>unknown</td>\n",
              "      <td>yes</td>\n",
              "    </tr>\n",
              "    <tr>\n",
              "      <th>3</th>\n",
              "      <td>55</td>\n",
              "      <td>services</td>\n",
              "      <td>married</td>\n",
              "      <td>secondary</td>\n",
              "      <td>no</td>\n",
              "      <td>2476</td>\n",
              "      <td>yes</td>\n",
              "      <td>no</td>\n",
              "      <td>unknown</td>\n",
              "      <td>5</td>\n",
              "      <td>may</td>\n",
              "      <td>579</td>\n",
              "      <td>1</td>\n",
              "      <td>-1</td>\n",
              "      <td>0</td>\n",
              "      <td>unknown</td>\n",
              "      <td>yes</td>\n",
              "    </tr>\n",
              "    <tr>\n",
              "      <th>4</th>\n",
              "      <td>54</td>\n",
              "      <td>admin.</td>\n",
              "      <td>married</td>\n",
              "      <td>tertiary</td>\n",
              "      <td>no</td>\n",
              "      <td>184</td>\n",
              "      <td>no</td>\n",
              "      <td>no</td>\n",
              "      <td>unknown</td>\n",
              "      <td>5</td>\n",
              "      <td>may</td>\n",
              "      <td>673</td>\n",
              "      <td>2</td>\n",
              "      <td>-1</td>\n",
              "      <td>0</td>\n",
              "      <td>unknown</td>\n",
              "      <td>yes</td>\n",
              "    </tr>\n",
              "  </tbody>\n",
              "</table>\n",
              "</div>"
            ],
            "text/plain": [
              "   age         job  marital  education  ... pdays  previous poutcome deposit\n",
              "0   59      admin.  married  secondary  ...    -1         0  unknown     yes\n",
              "1   56      admin.  married  secondary  ...    -1         0  unknown     yes\n",
              "2   41  technician  married  secondary  ...    -1         0  unknown     yes\n",
              "3   55    services  married  secondary  ...    -1         0  unknown     yes\n",
              "4   54      admin.  married   tertiary  ...    -1         0  unknown     yes\n",
              "\n",
              "[5 rows x 17 columns]"
            ]
          },
          "metadata": {
            "tags": []
          },
          "execution_count": 7
        }
      ]
    },
    {
      "cell_type": "code",
      "metadata": {
        "id": "1MYRDU1lmz0x",
        "colab_type": "code",
        "colab": {
          "base_uri": "https://localhost:8080/",
          "height": 310
        },
        "outputId": "58d0cba6-358a-4ae5-a97a-2d6b82999e9d"
      },
      "source": [
        "data.isnull().sum()"
      ],
      "execution_count": 9,
      "outputs": [
        {
          "output_type": "execute_result",
          "data": {
            "text/plain": [
              "age          0\n",
              "job          0\n",
              "marital      0\n",
              "education    0\n",
              "default      0\n",
              "balance      0\n",
              "housing      0\n",
              "loan         0\n",
              "contact      0\n",
              "day          0\n",
              "month        0\n",
              "duration     0\n",
              "campaign     0\n",
              "pdays        0\n",
              "previous     0\n",
              "poutcome     0\n",
              "deposit      0\n",
              "dtype: int64"
            ]
          },
          "metadata": {
            "tags": []
          },
          "execution_count": 9
        }
      ]
    },
    {
      "cell_type": "code",
      "metadata": {
        "id": "OxiMVjkum7ro",
        "colab_type": "code",
        "colab": {
          "base_uri": "https://localhost:8080/",
          "height": 490
        },
        "outputId": "d276ef36-a58a-4bd2-f1eb-88f982b50a83"
      },
      "source": [
        "sns.FacetGrid(data=data,hue='deposit',size=6).map(sns.distplot,'age').add_legend()"
      ],
      "execution_count": 10,
      "outputs": [
        {
          "output_type": "stream",
          "text": [
            "/usr/local/lib/python3.6/dist-packages/seaborn/axisgrid.py:243: UserWarning: The `size` parameter has been renamed to `height`; please update your code.\n",
            "  warnings.warn(msg, UserWarning)\n"
          ],
          "name": "stderr"
        },
        {
          "output_type": "execute_result",
          "data": {
            "text/plain": [
              "<seaborn.axisgrid.FacetGrid at 0x7f4d423e9c18>"
            ]
          },
          "metadata": {
            "tags": []
          },
          "execution_count": 10
        },
        {
          "output_type": "display_data",
          "data": {
            "image/png": "[encoded data removed]",
            "text/plain": [
              "<Figure size 485.25x432 with 1 Axes>"
            ]
          },
          "metadata": {
            "tags": [],
            "needs_background": "light"
          }
        }
      ]
    },
    {
      "cell_type": "code",
      "metadata": {
        "id": "cOgseqqnnKwe",
        "colab_type": "code",
        "colab": {}
      },
      "source": [
        "numirical = data[['age','balance','day','duration','campaign','pdays','previous']]"
      ],
      "execution_count": 14,
      "outputs": []
    },
    {
      "cell_type": "code",
      "metadata": {
        "id": "OMzqYtnqoDLA",
        "colab_type": "code",
        "colab": {}
      },
      "source": [
        "categorial = data[['job','marital','education','housing','contact','month','poutcome','default','loan','deposit']]"
      ],
      "execution_count": 15,
      "outputs": []
    },
    {
      "cell_type": "code",
      "metadata": {
        "id": "EhjqB2NvoKJR",
        "colab_type": "code",
        "colab": {}
      },
      "source": [
        "from sklearn.preprocessing import LabelEncoder\n",
        "lab = LabelEncoder()\n",
        "categorial = categorial.apply(lab.fit_transform)"
      ],
      "execution_count": 16,
      "outputs": []
    },
    {
      "cell_type": "code",
      "metadata": {
        "id": "Et27Ad0noU-u",
        "colab_type": "code",
        "colab": {
          "base_uri": "https://localhost:8080/",
          "height": 391
        },
        "outputId": "a4912766-e3f6-4059-dd04-f7eaa3cbecc1"
      },
      "source": [
        "categorial"
      ],
      "execution_count": 17,
      "outputs": [
        {
          "output_type": "execute_result",
          "data": {
            "text/html": [
              "<div>\n",
              "<style scoped>\n",
              "    .dataframe tbody tr th:only-of-type {\n",
              "        vertical-align: middle;\n",
              "    }\n",
              "\n",
              "    .dataframe tbody tr th {\n",
              "        vertical-align: top;\n",
              "    }\n",
              "\n",
              "    .dataframe thead th {\n",
              "        text-align: right;\n",
              "    }\n",
              "</style>\n",
              "<table border=\"1\" class=\"dataframe\">\n",
              "  <thead>\n",
              "    <tr style=\"text-align: right;\">\n",
              "      <th></th>\n",
              "      <th>job</th>\n",
              "      <th>marital</th>\n",
              "      <th>education</th>\n",
              "      <th>housing</th>\n",
              "      <th>contact</th>\n",
              "      <th>month</th>\n",
              "      <th>poutcome</th>\n",
              "      <th>default</th>\n",
              "      <th>loan</th>\n",
              "      <th>deposit</th>\n",
              "    </tr>\n",
              "  </thead>\n",
              "  <tbody>\n",
              "    <tr>\n",
              "      <th>0</th>\n",
              "      <td>0</td>\n",
              "      <td>1</td>\n",
              "      <td>1</td>\n",
              "      <td>1</td>\n",
              "      <td>2</td>\n",
              "      <td>8</td>\n",
              "      <td>3</td>\n",
              "      <td>0</td>\n",
              "      <td>0</td>\n",
              "      <td>1</td>\n",
              "    </tr>\n",
              "    <tr>\n",
              "      <th>1</th>\n",
              "      <td>0</td>\n",
              "      <td>1</td>\n",
              "      <td>1</td>\n",
              "      <td>0</td>\n",
              "      <td>2</td>\n",
              "      <td>8</td>\n",
              "      <td>3</td>\n",
              "      <td>0</td>\n",
              "      <td>0</td>\n",
              "      <td>1</td>\n",
              "    </tr>\n",
              "    <tr>\n",
              "      <th>2</th>\n",
              "      <td>9</td>\n",
              "      <td>1</td>\n",
              "      <td>1</td>\n",
              "      <td>1</td>\n",
              "      <td>2</td>\n",
              "      <td>8</td>\n",
              "      <td>3</td>\n",
              "      <td>0</td>\n",
              "      <td>0</td>\n",
              "      <td>1</td>\n",
              "    </tr>\n",
              "    <tr>\n",
              "      <th>3</th>\n",
              "      <td>7</td>\n",
              "      <td>1</td>\n",
              "      <td>1</td>\n",
              "      <td>1</td>\n",
              "      <td>2</td>\n",
              "      <td>8</td>\n",
              "      <td>3</td>\n",
              "      <td>0</td>\n",
              "      <td>0</td>\n",
              "      <td>1</td>\n",
              "    </tr>\n",
              "    <tr>\n",
              "      <th>4</th>\n",
              "      <td>0</td>\n",
              "      <td>1</td>\n",
              "      <td>2</td>\n",
              "      <td>0</td>\n",
              "      <td>2</td>\n",
              "      <td>8</td>\n",
              "      <td>3</td>\n",
              "      <td>0</td>\n",
              "      <td>0</td>\n",
              "      <td>1</td>\n",
              "    </tr>\n",
              "    <tr>\n",
              "      <th>...</th>\n",
              "      <td>...</td>\n",
              "      <td>...</td>\n",
              "      <td>...</td>\n",
              "      <td>...</td>\n",
              "      <td>...</td>\n",
              "      <td>...</td>\n",
              "      <td>...</td>\n",
              "      <td>...</td>\n",
              "      <td>...</td>\n",
              "      <td>...</td>\n",
              "    </tr>\n",
              "    <tr>\n",
              "      <th>11157</th>\n",
              "      <td>1</td>\n",
              "      <td>2</td>\n",
              "      <td>0</td>\n",
              "      <td>1</td>\n",
              "      <td>0</td>\n",
              "      <td>0</td>\n",
              "      <td>3</td>\n",
              "      <td>0</td>\n",
              "      <td>0</td>\n",
              "      <td>0</td>\n",
              "    </tr>\n",
              "    <tr>\n",
              "      <th>11158</th>\n",
              "      <td>7</td>\n",
              "      <td>1</td>\n",
              "      <td>1</td>\n",
              "      <td>0</td>\n",
              "      <td>2</td>\n",
              "      <td>6</td>\n",
              "      <td>3</td>\n",
              "      <td>0</td>\n",
              "      <td>0</td>\n",
              "      <td>0</td>\n",
              "    </tr>\n",
              "    <tr>\n",
              "      <th>11159</th>\n",
              "      <td>9</td>\n",
              "      <td>2</td>\n",
              "      <td>1</td>\n",
              "      <td>0</td>\n",
              "      <td>0</td>\n",
              "      <td>1</td>\n",
              "      <td>3</td>\n",
              "      <td>0</td>\n",
              "      <td>0</td>\n",
              "      <td>0</td>\n",
              "    </tr>\n",
              "    <tr>\n",
              "      <th>11160</th>\n",
              "      <td>9</td>\n",
              "      <td>1</td>\n",
              "      <td>1</td>\n",
              "      <td>0</td>\n",
              "      <td>0</td>\n",
              "      <td>8</td>\n",
              "      <td>0</td>\n",
              "      <td>0</td>\n",
              "      <td>1</td>\n",
              "      <td>0</td>\n",
              "    </tr>\n",
              "    <tr>\n",
              "      <th>11161</th>\n",
              "      <td>9</td>\n",
              "      <td>1</td>\n",
              "      <td>1</td>\n",
              "      <td>0</td>\n",
              "      <td>0</td>\n",
              "      <td>5</td>\n",
              "      <td>3</td>\n",
              "      <td>0</td>\n",
              "      <td>0</td>\n",
              "      <td>0</td>\n",
              "    </tr>\n",
              "  </tbody>\n",
              "</table>\n",
              "<p>11162 rows × 10 columns</p>\n",
              "</div>"
            ],
            "text/plain": [
              "       job  marital  education  housing  ...  poutcome  default  loan  deposit\n",
              "0        0        1          1        1  ...         3        0     0        1\n",
              "1        0        1          1        0  ...         3        0     0        1\n",
              "2        9        1          1        1  ...         3        0     0        1\n",
              "3        7        1          1        1  ...         3        0     0        1\n",
              "4        0        1          2        0  ...         3        0     0        1\n",
              "...    ...      ...        ...      ...  ...       ...      ...   ...      ...\n",
              "11157    1        2          0        1  ...         3        0     0        0\n",
              "11158    7        1          1        0  ...         3        0     0        0\n",
              "11159    9        2          1        0  ...         3        0     0        0\n",
              "11160    9        1          1        0  ...         0        0     1        0\n",
              "11161    9        1          1        0  ...         3        0     0        0\n",
              "\n",
              "[11162 rows x 10 columns]"
            ]
          },
          "metadata": {
            "tags": []
          },
          "execution_count": 17
        }
      ]
    },
    {
      "cell_type": "code",
      "metadata": {
        "id": "giTlEgLwoY7N",
        "colab_type": "code",
        "colab": {}
      },
      "source": [
        "data = numirical.join(categorial)"
      ],
      "execution_count": 18,
      "outputs": []
    },
    {
      "cell_type": "code",
      "metadata": {
        "id": "ic0jWazxoiM3",
        "colab_type": "code",
        "colab": {
          "base_uri": "https://localhost:8080/",
          "height": 191
        },
        "outputId": "01381499-a138-4fba-deed-1648eae8bb55"
      },
      "source": [
        "data.head()"
      ],
      "execution_count": 19,
      "outputs": [
        {
          "output_type": "execute_result",
          "data": {
            "text/html": [
              "<div>\n",
              "<style scoped>\n",
              "    .dataframe tbody tr th:only-of-type {\n",
              "        vertical-align: middle;\n",
              "    }\n",
              "\n",
              "    .dataframe tbody tr th {\n",
              "        vertical-align: top;\n",
              "    }\n",
              "\n",
              "    .dataframe thead th {\n",
              "        text-align: right;\n",
              "    }\n",
              "</style>\n",
              "<table border=\"1\" class=\"dataframe\">\n",
              "  <thead>\n",
              "    <tr style=\"text-align: right;\">\n",
              "      <th></th>\n",
              "      <th>age</th>\n",
              "      <th>balance</th>\n",
              "      <th>day</th>\n",
              "      <th>duration</th>\n",
              "      <th>campaign</th>\n",
              "      <th>pdays</th>\n",
              "      <th>previous</th>\n",
              "      <th>job</th>\n",
              "      <th>marital</th>\n",
              "      <th>education</th>\n",
              "      <th>housing</th>\n",
              "      <th>contact</th>\n",
              "      <th>month</th>\n",
              "      <th>poutcome</th>\n",
              "      <th>default</th>\n",
              "      <th>loan</th>\n",
              "      <th>deposit</th>\n",
              "    </tr>\n",
              "  </thead>\n",
              "  <tbody>\n",
              "    <tr>\n",
              "      <th>0</th>\n",
              "      <td>59</td>\n",
              "      <td>2343</td>\n",
              "      <td>5</td>\n",
              "      <td>1042</td>\n",
              "      <td>1</td>\n",
              "      <td>-1</td>\n",
              "      <td>0</td>\n",
              "      <td>0</td>\n",
              "      <td>1</td>\n",
              "      <td>1</td>\n",
              "      <td>1</td>\n",
              "      <td>2</td>\n",
              "      <td>8</td>\n",
              "      <td>3</td>\n",
              "      <td>0</td>\n",
              "      <td>0</td>\n",
              "      <td>1</td>\n",
              "    </tr>\n",
              "    <tr>\n",
              "      <th>1</th>\n",
              "      <td>56</td>\n",
              "      <td>45</td>\n",
              "      <td>5</td>\n",
              "      <td>1467</td>\n",
              "      <td>1</td>\n",
              "      <td>-1</td>\n",
              "      <td>0</td>\n",
              "      <td>0</td>\n",
              "      <td>1</td>\n",
              "      <td>1</td>\n",
              "      <td>0</td>\n",
              "      <td>2</td>\n",
              "      <td>8</td>\n",
              "      <td>3</td>\n",
              "      <td>0</td>\n",
              "      <td>0</td>\n",
              "      <td>1</td>\n",
              "    </tr>\n",
              "    <tr>\n",
              "      <th>2</th>\n",
              "      <td>41</td>\n",
              "      <td>1270</td>\n",
              "      <td>5</td>\n",
              "      <td>1389</td>\n",
              "      <td>1</td>\n",
              "      <td>-1</td>\n",
              "      <td>0</td>\n",
              "      <td>9</td>\n",
              "      <td>1</td>\n",
              "      <td>1</td>\n",
              "      <td>1</td>\n",
              "      <td>2</td>\n",
              "      <td>8</td>\n",
              "      <td>3</td>\n",
              "      <td>0</td>\n",
              "      <td>0</td>\n",
              "      <td>1</td>\n",
              "    </tr>\n",
              "    <tr>\n",
              "      <th>3</th>\n",
              "      <td>55</td>\n",
              "      <td>2476</td>\n",
              "      <td>5</td>\n",
              "      <td>579</td>\n",
              "      <td>1</td>\n",
              "      <td>-1</td>\n",
              "      <td>0</td>\n",
              "      <td>7</td>\n",
              "      <td>1</td>\n",
              "      <td>1</td>\n",
              "      <td>1</td>\n",
              "      <td>2</td>\n",
              "      <td>8</td>\n",
              "      <td>3</td>\n",
              "      <td>0</td>\n",
              "      <td>0</td>\n",
              "      <td>1</td>\n",
              "    </tr>\n",
              "    <tr>\n",
              "      <th>4</th>\n",
              "      <td>54</td>\n",
              "      <td>184</td>\n",
              "      <td>5</td>\n",
              "      <td>673</td>\n",
              "      <td>2</td>\n",
              "      <td>-1</td>\n",
              "      <td>0</td>\n",
              "      <td>0</td>\n",
              "      <td>1</td>\n",
              "      <td>2</td>\n",
              "      <td>0</td>\n",
              "      <td>2</td>\n",
              "      <td>8</td>\n",
              "      <td>3</td>\n",
              "      <td>0</td>\n",
              "      <td>0</td>\n",
              "      <td>1</td>\n",
              "    </tr>\n",
              "  </tbody>\n",
              "</table>\n",
              "</div>"
            ],
            "text/plain": [
              "   age  balance  day  duration  ...  poutcome  default  loan  deposit\n",
              "0   59     2343    5      1042  ...         3        0     0        1\n",
              "1   56       45    5      1467  ...         3        0     0        1\n",
              "2   41     1270    5      1389  ...         3        0     0        1\n",
              "3   55     2476    5       579  ...         3        0     0        1\n",
              "4   54      184    5       673  ...         3        0     0        1\n",
              "\n",
              "[5 rows x 17 columns]"
            ]
          },
          "metadata": {
            "tags": []
          },
          "execution_count": 19
        }
      ]
    },
    {
      "cell_type": "code",
      "metadata": {
        "id": "ycP4QFS1rG12",
        "colab_type": "code",
        "colab": {
          "base_uri": "https://localhost:8080/",
          "height": 297
        },
        "outputId": "4ecc7b6f-0b8b-4497-8079-e1a856c9fef2"
      },
      "source": [
        "data.describe()"
      ],
      "execution_count": 20,
      "outputs": [
        {
          "output_type": "execute_result",
          "data": {
            "text/html": [
              "<div>\n",
              "<style scoped>\n",
              "    .dataframe tbody tr th:only-of-type {\n",
              "        vertical-align: middle;\n",
              "    }\n",
              "\n",
              "    .dataframe tbody tr th {\n",
              "        vertical-align: top;\n",
              "    }\n",
              "\n",
              "    .dataframe thead th {\n",
              "        text-align: right;\n",
              "    }\n",
              "</style>\n",
              "<table border=\"1\" class=\"dataframe\">\n",
              "  <thead>\n",
              "    <tr style=\"text-align: right;\">\n",
              "      <th></th>\n",
              "      <th>age</th>\n",
              "      <th>balance</th>\n",
              "      <th>day</th>\n",
              "      <th>duration</th>\n",
              "      <th>campaign</th>\n",
              "      <th>pdays</th>\n",
              "      <th>previous</th>\n",
              "      <th>job</th>\n",
              "      <th>marital</th>\n",
              "      <th>education</th>\n",
              "      <th>housing</th>\n",
              "      <th>contact</th>\n",
              "      <th>month</th>\n",
              "      <th>poutcome</th>\n",
              "      <th>default</th>\n",
              "      <th>loan</th>\n",
              "      <th>deposit</th>\n",
              "    </tr>\n",
              "  </thead>\n",
              "  <tbody>\n",
              "    <tr>\n",
              "      <th>count</th>\n",
              "      <td>11162.000000</td>\n",
              "      <td>11162.000000</td>\n",
              "      <td>11162.000000</td>\n",
              "      <td>11162.000000</td>\n",
              "      <td>11162.000000</td>\n",
              "      <td>11162.000000</td>\n",
              "      <td>11162.000000</td>\n",
              "      <td>11162.000000</td>\n",
              "      <td>11162.000000</td>\n",
              "      <td>11162.000000</td>\n",
              "      <td>11162.000000</td>\n",
              "      <td>11162.000000</td>\n",
              "      <td>11162.000000</td>\n",
              "      <td>11162.000000</td>\n",
              "      <td>11162.000000</td>\n",
              "      <td>11162.000000</td>\n",
              "      <td>11162.000000</td>\n",
              "    </tr>\n",
              "    <tr>\n",
              "      <th>mean</th>\n",
              "      <td>41.231948</td>\n",
              "      <td>1528.538524</td>\n",
              "      <td>15.658036</td>\n",
              "      <td>371.993818</td>\n",
              "      <td>2.508421</td>\n",
              "      <td>51.330407</td>\n",
              "      <td>0.832557</td>\n",
              "      <td>4.487905</td>\n",
              "      <td>1.199337</td>\n",
              "      <td>1.285164</td>\n",
              "      <td>0.473123</td>\n",
              "      <td>0.489697</td>\n",
              "      <td>5.445709</td>\n",
              "      <td>2.477782</td>\n",
              "      <td>0.015051</td>\n",
              "      <td>0.130801</td>\n",
              "      <td>0.473840</td>\n",
              "    </tr>\n",
              "    <tr>\n",
              "      <th>std</th>\n",
              "      <td>11.913369</td>\n",
              "      <td>3225.413326</td>\n",
              "      <td>8.420740</td>\n",
              "      <td>347.128386</td>\n",
              "      <td>2.722077</td>\n",
              "      <td>108.758282</td>\n",
              "      <td>2.292007</td>\n",
              "      <td>3.225132</td>\n",
              "      <td>0.625552</td>\n",
              "      <td>0.749478</td>\n",
              "      <td>0.499299</td>\n",
              "      <td>0.818724</td>\n",
              "      <td>3.191939</td>\n",
              "      <td>1.002952</td>\n",
              "      <td>0.121761</td>\n",
              "      <td>0.337198</td>\n",
              "      <td>0.499338</td>\n",
              "    </tr>\n",
              "    <tr>\n",
              "      <th>min</th>\n",
              "      <td>18.000000</td>\n",
              "      <td>-6847.000000</td>\n",
              "      <td>1.000000</td>\n",
              "      <td>2.000000</td>\n",
              "      <td>1.000000</td>\n",
              "      <td>-1.000000</td>\n",
              "      <td>0.000000</td>\n",
              "      <td>0.000000</td>\n",
              "      <td>0.000000</td>\n",
              "      <td>0.000000</td>\n",
              "      <td>0.000000</td>\n",
              "      <td>0.000000</td>\n",
              "      <td>0.000000</td>\n",
              "      <td>0.000000</td>\n",
              "      <td>0.000000</td>\n",
              "      <td>0.000000</td>\n",
              "      <td>0.000000</td>\n",
              "    </tr>\n",
              "    <tr>\n",
              "      <th>25%</th>\n",
              "      <td>32.000000</td>\n",
              "      <td>122.000000</td>\n",
              "      <td>8.000000</td>\n",
              "      <td>138.000000</td>\n",
              "      <td>1.000000</td>\n",
              "      <td>-1.000000</td>\n",
              "      <td>0.000000</td>\n",
              "      <td>1.000000</td>\n",
              "      <td>1.000000</td>\n",
              "      <td>1.000000</td>\n",
              "      <td>0.000000</td>\n",
              "      <td>0.000000</td>\n",
              "      <td>3.000000</td>\n",
              "      <td>2.000000</td>\n",
              "      <td>0.000000</td>\n",
              "      <td>0.000000</td>\n",
              "      <td>0.000000</td>\n",
              "    </tr>\n",
              "    <tr>\n",
              "      <th>50%</th>\n",
              "      <td>39.000000</td>\n",
              "      <td>550.000000</td>\n",
              "      <td>15.000000</td>\n",
              "      <td>255.000000</td>\n",
              "      <td>2.000000</td>\n",
              "      <td>-1.000000</td>\n",
              "      <td>0.000000</td>\n",
              "      <td>4.000000</td>\n",
              "      <td>1.000000</td>\n",
              "      <td>1.000000</td>\n",
              "      <td>0.000000</td>\n",
              "      <td>0.000000</td>\n",
              "      <td>6.000000</td>\n",
              "      <td>3.000000</td>\n",
              "      <td>0.000000</td>\n",
              "      <td>0.000000</td>\n",
              "      <td>0.000000</td>\n",
              "    </tr>\n",
              "    <tr>\n",
              "      <th>75%</th>\n",
              "      <td>49.000000</td>\n",
              "      <td>1708.000000</td>\n",
              "      <td>22.000000</td>\n",
              "      <td>496.000000</td>\n",
              "      <td>3.000000</td>\n",
              "      <td>20.750000</td>\n",
              "      <td>1.000000</td>\n",
              "      <td>7.000000</td>\n",
              "      <td>2.000000</td>\n",
              "      <td>2.000000</td>\n",
              "      <td>1.000000</td>\n",
              "      <td>1.000000</td>\n",
              "      <td>8.000000</td>\n",
              "      <td>3.000000</td>\n",
              "      <td>0.000000</td>\n",
              "      <td>0.000000</td>\n",
              "      <td>1.000000</td>\n",
              "    </tr>\n",
              "    <tr>\n",
              "      <th>max</th>\n",
              "      <td>95.000000</td>\n",
              "      <td>81204.000000</td>\n",
              "      <td>31.000000</td>\n",
              "      <td>3881.000000</td>\n",
              "      <td>63.000000</td>\n",
              "      <td>854.000000</td>\n",
              "      <td>58.000000</td>\n",
              "      <td>11.000000</td>\n",
              "      <td>2.000000</td>\n",
              "      <td>3.000000</td>\n",
              "      <td>1.000000</td>\n",
              "      <td>2.000000</td>\n",
              "      <td>11.000000</td>\n",
              "      <td>3.000000</td>\n",
              "      <td>1.000000</td>\n",
              "      <td>1.000000</td>\n",
              "      <td>1.000000</td>\n",
              "    </tr>\n",
              "  </tbody>\n",
              "</table>\n",
              "</div>"
            ],
            "text/plain": [
              "                age       balance  ...          loan       deposit\n",
              "count  11162.000000  11162.000000  ...  11162.000000  11162.000000\n",
              "mean      41.231948   1528.538524  ...      0.130801      0.473840\n",
              "std       11.913369   3225.413326  ...      0.337198      0.499338\n",
              "min       18.000000  -6847.000000  ...      0.000000      0.000000\n",
              "25%       32.000000    122.000000  ...      0.000000      0.000000\n",
              "50%       39.000000    550.000000  ...      0.000000      0.000000\n",
              "75%       49.000000   1708.000000  ...      0.000000      1.000000\n",
              "max       95.000000  81204.000000  ...      1.000000      1.000000\n",
              "\n",
              "[8 rows x 17 columns]"
            ]
          },
          "metadata": {
            "tags": []
          },
          "execution_count": 20
        }
      ]
    },
    {
      "cell_type": "code",
      "metadata": {
        "id": "leAkOBCurzYQ",
        "colab_type": "code",
        "colab": {
          "base_uri": "https://localhost:8080/",
          "height": 556
        },
        "outputId": "452aa9fe-0479-48c8-a68c-2c71a45fdc4d"
      },
      "source": [
        "data.corr()"
      ],
      "execution_count": 21,
      "outputs": [
        {
          "output_type": "execute_result",
          "data": {
            "text/html": [
              "<div>\n",
              "<style scoped>\n",
              "    .dataframe tbody tr th:only-of-type {\n",
              "        vertical-align: middle;\n",
              "    }\n",
              "\n",
              "    .dataframe tbody tr th {\n",
              "        vertical-align: top;\n",
              "    }\n",
              "\n",
              "    .dataframe thead th {\n",
              "        text-align: right;\n",
              "    }\n",
              "</style>\n",
              "<table border=\"1\" class=\"dataframe\">\n",
              "  <thead>\n",
              "    <tr style=\"text-align: right;\">\n",
              "      <th></th>\n",
              "      <th>age</th>\n",
              "      <th>balance</th>\n",
              "      <th>day</th>\n",
              "      <th>duration</th>\n",
              "      <th>campaign</th>\n",
              "      <th>pdays</th>\n",
              "      <th>previous</th>\n",
              "      <th>job</th>\n",
              "      <th>marital</th>\n",
              "      <th>education</th>\n",
              "      <th>housing</th>\n",
              "      <th>contact</th>\n",
              "      <th>month</th>\n",
              "      <th>poutcome</th>\n",
              "      <th>default</th>\n",
              "      <th>loan</th>\n",
              "      <th>deposit</th>\n",
              "    </tr>\n",
              "  </thead>\n",
              "  <tbody>\n",
              "    <tr>\n",
              "      <th>age</th>\n",
              "      <td>1.000000</td>\n",
              "      <td>0.112300</td>\n",
              "      <td>-0.000762</td>\n",
              "      <td>0.000189</td>\n",
              "      <td>-0.005278</td>\n",
              "      <td>0.002774</td>\n",
              "      <td>0.020169</td>\n",
              "      <td>-0.031603</td>\n",
              "      <td>-0.442782</td>\n",
              "      <td>-0.126018</td>\n",
              "      <td>-0.168700</td>\n",
              "      <td>0.027762</td>\n",
              "      <td>-0.026130</td>\n",
              "      <td>-0.002699</td>\n",
              "      <td>-0.011425</td>\n",
              "      <td>-0.031418</td>\n",
              "      <td>0.034901</td>\n",
              "    </tr>\n",
              "    <tr>\n",
              "      <th>balance</th>\n",
              "      <td>0.112300</td>\n",
              "      <td>1.000000</td>\n",
              "      <td>0.010467</td>\n",
              "      <td>0.022436</td>\n",
              "      <td>-0.013894</td>\n",
              "      <td>0.017411</td>\n",
              "      <td>0.030805</td>\n",
              "      <td>0.028736</td>\n",
              "      <td>-0.002138</td>\n",
              "      <td>0.051728</td>\n",
              "      <td>-0.077092</td>\n",
              "      <td>-0.027295</td>\n",
              "      <td>0.007264</td>\n",
              "      <td>-0.027151</td>\n",
              "      <td>-0.060954</td>\n",
              "      <td>-0.084589</td>\n",
              "      <td>0.081129</td>\n",
              "    </tr>\n",
              "    <tr>\n",
              "      <th>day</th>\n",
              "      <td>-0.000762</td>\n",
              "      <td>0.010467</td>\n",
              "      <td>1.000000</td>\n",
              "      <td>-0.018511</td>\n",
              "      <td>0.137007</td>\n",
              "      <td>-0.077232</td>\n",
              "      <td>-0.058981</td>\n",
              "      <td>0.026589</td>\n",
              "      <td>-0.003642</td>\n",
              "      <td>0.016759</td>\n",
              "      <td>-0.014770</td>\n",
              "      <td>0.007943</td>\n",
              "      <td>-0.019840</td>\n",
              "      <td>0.080221</td>\n",
              "      <td>0.017342</td>\n",
              "      <td>0.017269</td>\n",
              "      <td>-0.056326</td>\n",
              "    </tr>\n",
              "    <tr>\n",
              "      <th>duration</th>\n",
              "      <td>0.000189</td>\n",
              "      <td>0.022436</td>\n",
              "      <td>-0.018511</td>\n",
              "      <td>1.000000</td>\n",
              "      <td>-0.041557</td>\n",
              "      <td>-0.027392</td>\n",
              "      <td>-0.026716</td>\n",
              "      <td>0.002432</td>\n",
              "      <td>0.006781</td>\n",
              "      <td>-0.019122</td>\n",
              "      <td>0.035051</td>\n",
              "      <td>-0.018000</td>\n",
              "      <td>-0.006482</td>\n",
              "      <td>0.042171</td>\n",
              "      <td>-0.009760</td>\n",
              "      <td>-0.001914</td>\n",
              "      <td>0.451919</td>\n",
              "    </tr>\n",
              "    <tr>\n",
              "      <th>campaign</th>\n",
              "      <td>-0.005278</td>\n",
              "      <td>-0.013894</td>\n",
              "      <td>0.137007</td>\n",
              "      <td>-0.041557</td>\n",
              "      <td>1.000000</td>\n",
              "      <td>-0.102726</td>\n",
              "      <td>-0.049699</td>\n",
              "      <td>0.003104</td>\n",
              "      <td>-0.030794</td>\n",
              "      <td>-0.005327</td>\n",
              "      <td>0.006660</td>\n",
              "      <td>0.059258</td>\n",
              "      <td>-0.098123</td>\n",
              "      <td>0.112127</td>\n",
              "      <td>0.030975</td>\n",
              "      <td>0.034722</td>\n",
              "      <td>-0.128081</td>\n",
              "    </tr>\n",
              "    <tr>\n",
              "      <th>pdays</th>\n",
              "      <td>0.002774</td>\n",
              "      <td>0.017411</td>\n",
              "      <td>-0.077232</td>\n",
              "      <td>-0.027392</td>\n",
              "      <td>-0.102726</td>\n",
              "      <td>1.000000</td>\n",
              "      <td>0.507272</td>\n",
              "      <td>-0.003385</td>\n",
              "      <td>0.031200</td>\n",
              "      <td>0.025165</td>\n",
              "      <td>0.064497</td>\n",
              "      <td>-0.227785</td>\n",
              "      <td>0.033631</td>\n",
              "      <td>-0.806533</td>\n",
              "      <td>-0.036282</td>\n",
              "      <td>-0.030416</td>\n",
              "      <td>0.151593</td>\n",
              "    </tr>\n",
              "    <tr>\n",
              "      <th>previous</th>\n",
              "      <td>0.020169</td>\n",
              "      <td>0.030805</td>\n",
              "      <td>-0.058981</td>\n",
              "      <td>-0.026716</td>\n",
              "      <td>-0.049699</td>\n",
              "      <td>0.507272</td>\n",
              "      <td>1.000000</td>\n",
              "      <td>0.012665</td>\n",
              "      <td>0.031281</td>\n",
              "      <td>0.022427</td>\n",
              "      <td>-0.000840</td>\n",
              "      <td>-0.169919</td>\n",
              "      <td>0.029283</td>\n",
              "      <td>-0.549333</td>\n",
              "      <td>-0.035273</td>\n",
              "      <td>-0.022668</td>\n",
              "      <td>0.139867</td>\n",
              "    </tr>\n",
              "    <tr>\n",
              "      <th>job</th>\n",
              "      <td>-0.031603</td>\n",
              "      <td>0.028736</td>\n",
              "      <td>0.026589</td>\n",
              "      <td>0.002432</td>\n",
              "      <td>0.003104</td>\n",
              "      <td>-0.003385</td>\n",
              "      <td>0.012665</td>\n",
              "      <td>1.000000</td>\n",
              "      <td>0.078314</td>\n",
              "      <td>0.147046</td>\n",
              "      <td>-0.136965</td>\n",
              "      <td>-0.087915</td>\n",
              "      <td>-0.076011</td>\n",
              "      <td>-0.004238</td>\n",
              "      <td>-0.007066</td>\n",
              "      <td>-0.067092</td>\n",
              "      <td>0.063395</td>\n",
              "    </tr>\n",
              "    <tr>\n",
              "      <th>marital</th>\n",
              "      <td>-0.442782</td>\n",
              "      <td>-0.002138</td>\n",
              "      <td>-0.003642</td>\n",
              "      <td>0.006781</td>\n",
              "      <td>-0.030794</td>\n",
              "      <td>0.031200</td>\n",
              "      <td>0.031281</td>\n",
              "      <td>0.078314</td>\n",
              "      <td>1.000000</td>\n",
              "      <td>0.125845</td>\n",
              "      <td>-0.036345</td>\n",
              "      <td>-0.060456</td>\n",
              "      <td>-0.004070</td>\n",
              "      <td>-0.039424</td>\n",
              "      <td>-0.014691</td>\n",
              "      <td>-0.062029</td>\n",
              "      <td>0.067610</td>\n",
              "    </tr>\n",
              "    <tr>\n",
              "      <th>education</th>\n",
              "      <td>-0.126018</td>\n",
              "      <td>0.051728</td>\n",
              "      <td>0.016759</td>\n",
              "      <td>-0.019122</td>\n",
              "      <td>-0.005327</td>\n",
              "      <td>0.025165</td>\n",
              "      <td>0.022427</td>\n",
              "      <td>0.147046</td>\n",
              "      <td>0.125845</td>\n",
              "      <td>1.000000</td>\n",
              "      <td>-0.109168</td>\n",
              "      <td>-0.132540</td>\n",
              "      <td>-0.055868</td>\n",
              "      <td>-0.040262</td>\n",
              "      <td>-0.010709</td>\n",
              "      <td>-0.073154</td>\n",
              "      <td>0.095948</td>\n",
              "    </tr>\n",
              "    <tr>\n",
              "      <th>housing</th>\n",
              "      <td>-0.168700</td>\n",
              "      <td>-0.077092</td>\n",
              "      <td>-0.014770</td>\n",
              "      <td>0.035051</td>\n",
              "      <td>0.006660</td>\n",
              "      <td>0.064497</td>\n",
              "      <td>-0.000840</td>\n",
              "      <td>-0.136965</td>\n",
              "      <td>-0.036345</td>\n",
              "      <td>-0.109168</td>\n",
              "      <td>1.000000</td>\n",
              "      <td>0.226392</td>\n",
              "      <td>0.219602</td>\n",
              "      <td>-0.046370</td>\n",
              "      <td>0.011076</td>\n",
              "      <td>0.076761</td>\n",
              "      <td>-0.203888</td>\n",
              "    </tr>\n",
              "    <tr>\n",
              "      <th>contact</th>\n",
              "      <td>0.027762</td>\n",
              "      <td>-0.027295</td>\n",
              "      <td>0.007943</td>\n",
              "      <td>-0.018000</td>\n",
              "      <td>0.059258</td>\n",
              "      <td>-0.227785</td>\n",
              "      <td>-0.169919</td>\n",
              "      <td>-0.087915</td>\n",
              "      <td>-0.060456</td>\n",
              "      <td>-0.132540</td>\n",
              "      <td>0.226392</td>\n",
              "      <td>1.000000</td>\n",
              "      <td>0.289803</td>\n",
              "      <td>0.257993</td>\n",
              "      <td>0.035709</td>\n",
              "      <td>0.006829</td>\n",
              "      <td>-0.249847</td>\n",
              "    </tr>\n",
              "    <tr>\n",
              "      <th>month</th>\n",
              "      <td>-0.026130</td>\n",
              "      <td>0.007264</td>\n",
              "      <td>-0.019840</td>\n",
              "      <td>-0.006482</td>\n",
              "      <td>-0.098123</td>\n",
              "      <td>0.033631</td>\n",
              "      <td>0.029283</td>\n",
              "      <td>-0.076011</td>\n",
              "      <td>-0.004070</td>\n",
              "      <td>-0.055868</td>\n",
              "      <td>0.219602</td>\n",
              "      <td>0.289803</td>\n",
              "      <td>1.000000</td>\n",
              "      <td>-0.042456</td>\n",
              "      <td>0.000950</td>\n",
              "      <td>0.025329</td>\n",
              "      <td>-0.037121</td>\n",
              "    </tr>\n",
              "    <tr>\n",
              "      <th>poutcome</th>\n",
              "      <td>-0.002699</td>\n",
              "      <td>-0.027151</td>\n",
              "      <td>0.080221</td>\n",
              "      <td>0.042171</td>\n",
              "      <td>0.112127</td>\n",
              "      <td>-0.806533</td>\n",
              "      <td>-0.549333</td>\n",
              "      <td>-0.004238</td>\n",
              "      <td>-0.039424</td>\n",
              "      <td>-0.040262</td>\n",
              "      <td>-0.046370</td>\n",
              "      <td>0.257993</td>\n",
              "      <td>-0.042456</td>\n",
              "      <td>1.000000</td>\n",
              "      <td>0.042357</td>\n",
              "      <td>0.026344</td>\n",
              "      <td>-0.122369</td>\n",
              "    </tr>\n",
              "    <tr>\n",
              "      <th>default</th>\n",
              "      <td>-0.011425</td>\n",
              "      <td>-0.060954</td>\n",
              "      <td>0.017342</td>\n",
              "      <td>-0.009760</td>\n",
              "      <td>0.030975</td>\n",
              "      <td>-0.036282</td>\n",
              "      <td>-0.035273</td>\n",
              "      <td>-0.007066</td>\n",
              "      <td>-0.014691</td>\n",
              "      <td>-0.010709</td>\n",
              "      <td>0.011076</td>\n",
              "      <td>0.035709</td>\n",
              "      <td>0.000950</td>\n",
              "      <td>0.042357</td>\n",
              "      <td>1.000000</td>\n",
              "      <td>0.076434</td>\n",
              "      <td>-0.040680</td>\n",
              "    </tr>\n",
              "    <tr>\n",
              "      <th>loan</th>\n",
              "      <td>-0.031418</td>\n",
              "      <td>-0.084589</td>\n",
              "      <td>0.017269</td>\n",
              "      <td>-0.001914</td>\n",
              "      <td>0.034722</td>\n",
              "      <td>-0.030416</td>\n",
              "      <td>-0.022668</td>\n",
              "      <td>-0.067092</td>\n",
              "      <td>-0.062029</td>\n",
              "      <td>-0.073154</td>\n",
              "      <td>0.076761</td>\n",
              "      <td>0.006829</td>\n",
              "      <td>0.025329</td>\n",
              "      <td>0.026344</td>\n",
              "      <td>0.076434</td>\n",
              "      <td>1.000000</td>\n",
              "      <td>-0.110580</td>\n",
              "    </tr>\n",
              "    <tr>\n",
              "      <th>deposit</th>\n",
              "      <td>0.034901</td>\n",
              "      <td>0.081129</td>\n",
              "      <td>-0.056326</td>\n",
              "      <td>0.451919</td>\n",
              "      <td>-0.128081</td>\n",
              "      <td>0.151593</td>\n",
              "      <td>0.139867</td>\n",
              "      <td>0.063395</td>\n",
              "      <td>0.067610</td>\n",
              "      <td>0.095948</td>\n",
              "      <td>-0.203888</td>\n",
              "      <td>-0.249847</td>\n",
              "      <td>-0.037121</td>\n",
              "      <td>-0.122369</td>\n",
              "      <td>-0.040680</td>\n",
              "      <td>-0.110580</td>\n",
              "      <td>1.000000</td>\n",
              "    </tr>\n",
              "  </tbody>\n",
              "</table>\n",
              "</div>"
            ],
            "text/plain": [
              "                age   balance       day  ...   default      loan   deposit\n",
              "age        1.000000  0.112300 -0.000762  ... -0.011425 -0.031418  0.034901\n",
              "balance    0.112300  1.000000  0.010467  ... -0.060954 -0.084589  0.081129\n",
              "day       -0.000762  0.010467  1.000000  ...  0.017342  0.017269 -0.056326\n",
              "duration   0.000189  0.022436 -0.018511  ... -0.009760 -0.001914  0.451919\n",
              "campaign  -0.005278 -0.013894  0.137007  ...  0.030975  0.034722 -0.128081\n",
              "pdays      0.002774  0.017411 -0.077232  ... -0.036282 -0.030416  0.151593\n",
              "previous   0.020169  0.030805 -0.058981  ... -0.035273 -0.022668  0.139867\n",
              "job       -0.031603  0.028736  0.026589  ... -0.007066 -0.067092  0.063395\n",
              "marital   -0.442782 -0.002138 -0.003642  ... -0.014691 -0.062029  0.067610\n",
              "education -0.126018  0.051728  0.016759  ... -0.010709 -0.073154  0.095948\n",
              "housing   -0.168700 -0.077092 -0.014770  ...  0.011076  0.076761 -0.203888\n",
              "contact    0.027762 -0.027295  0.007943  ...  0.035709  0.006829 -0.249847\n",
              "month     -0.026130  0.007264 -0.019840  ...  0.000950  0.025329 -0.037121\n",
              "poutcome  -0.002699 -0.027151  0.080221  ...  0.042357  0.026344 -0.122369\n",
              "default   -0.011425 -0.060954  0.017342  ...  1.000000  0.076434 -0.040680\n",
              "loan      -0.031418 -0.084589  0.017269  ...  0.076434  1.000000 -0.110580\n",
              "deposit    0.034901  0.081129 -0.056326  ... -0.040680 -0.110580  1.000000\n",
              "\n",
              "[17 rows x 17 columns]"
            ]
          },
          "metadata": {
            "tags": []
          },
          "execution_count": 21
        }
      ]
    },
    {
      "cell_type": "code",
      "metadata": {
        "id": "-aQev0W1rGai",
        "colab_type": "code",
        "colab": {
          "base_uri": "https://localhost:8080/",
          "height": 923
        },
        "outputId": "ffbd6619-f572-41bc-d860-5183ef763328"
      },
      "source": [
        "plt.figure(figsize=(15,15))\n",
        "sns.heatmap(data.corr())"
      ],
      "execution_count": 22,
      "outputs": [
        {
          "output_type": "execute_result",
          "data": {
            "text/plain": [
              "<matplotlib.axes._subplots.AxesSubplot at 0x7f4d36a9ba20>"
            ]
          },
          "metadata": {
            "tags": []
          },
          "execution_count": 22
        },
        {
          "output_type": "display_data",
          "data": {
            "image/png": "[encoded data removed]",
            "text/plain": [
              "<Figure size 1080x1080 with 2 Axes>"
            ]
          },
          "metadata": {
            "tags": [],
            "needs_background": "light"
          }
        }
      ]
    },
    {
      "cell_type": "code",
      "metadata": {
        "id": "O8w1WvaEsd3S",
        "colab_type": "code",
        "colab": {}
      },
      "source": [
        "data = data.drop([\"pdays\" , \"poutcome\"] , axis=1)"
      ],
      "execution_count": 23,
      "outputs": []
    },
    {
      "cell_type": "code",
      "metadata": {
        "id": "r-faNNkhsvsO",
        "colab_type": "code",
        "colab": {
          "base_uri": "https://localhost:8080/",
          "height": 297
        },
        "outputId": "9b153a8a-24a4-4ccb-9629-e26db7a93553"
      },
      "source": [
        "plt.scatter(data.deposit,data.balance)\n",
        "plt.title(\"Deposit vs  Balance\")"
      ],
      "execution_count": 24,
      "outputs": [
        {
          "output_type": "execute_result",
          "data": {
            "text/plain": [
              "Text(0.5, 1.0, 'Deposit vs  Balance')"
            ]
          },
          "metadata": {
            "tags": []
          },
          "execution_count": 24
        },
        {
          "output_type": "display_data",
          "data": {
            "image/png": "[encoded data removed]",
            "text/plain": [
              "<Figure size 432x288 with 1 Axes>"
            ]
          },
          "metadata": {
            "tags": [],
            "needs_background": "light"
          }
        }
      ]
    },
    {
      "cell_type": "code",
      "metadata": {
        "id": "2ZFiy6QhtI7j",
        "colab_type": "code",
        "colab": {}
      },
      "source": [
        "y = data['deposit']\n",
        "X = data.drop(['deposit'] , axis=1)"
      ],
      "execution_count": 25,
      "outputs": []
    },
    {
      "cell_type": "code",
      "metadata": {
        "id": "XkVynEECtlik",
        "colab_type": "code",
        "colab": {
          "base_uri": "https://localhost:8080/",
          "height": 521
        },
        "outputId": "e267502f-42a3-456f-dc13-739feacdc63b"
      },
      "source": [
        "# Import Libraries\n",
        "from sklearn.preprocessing import StandardScaler\n",
        "#----------------------------------------------------\n",
        "\n",
        "#----------------------------------------------------\n",
        "#Standard Scaler for Data\n",
        "\n",
        "scaler = StandardScaler(copy=True, with_mean=True, with_std=True)\n",
        "X = scaler.fit_transform(X)\n",
        "\n",
        "#showing data\n",
        "print('X \\n' , X[:10])\n"
      ],
      "execution_count": 26,
      "outputs": [
        {
          "output_type": "stream",
          "text": [
            "X \n",
            " [[ 1.49150488  0.25252514 -1.26574556  1.93022589 -0.55416834 -0.36325984\n",
            "  -1.39160402 -0.31867191 -0.38050056  1.05527951  1.8447863   0.80026761\n",
            "  -0.12361659 -0.38792323]\n",
            " [ 1.23967567 -0.4599736  -1.26574556  3.15461161 -0.55416834 -0.36325984\n",
            "  -1.39160402 -0.31867191 -0.38050056 -0.94761624  1.8447863   0.80026761\n",
            "  -0.12361659 -0.38792323]\n",
            " [-0.0194704  -0.0801603  -1.26574556  2.92990082 -0.55416834 -0.36325984\n",
            "   1.39910458 -0.31867191 -0.38050056  1.05527951  1.8447863   0.80026761\n",
            "  -0.12361659 -0.38792323]\n",
            " [ 1.1557326   0.29376202 -1.26574556  0.59636568 -0.55416834 -0.36325984\n",
            "   0.77894711 -0.31867191 -0.38050056  1.05527951  1.8447863   0.80026761\n",
            "  -0.12361659 -0.38792323]\n",
            " [ 1.07178952 -0.41687642 -1.26574556  0.86717099 -0.18678537 -0.36325984\n",
            "  -1.39160402 -0.31867191  0.95382154 -0.94761624  1.8447863   0.80026761\n",
            "  -0.12361659 -0.38792323]\n",
            " [ 0.06447267 -0.47392593 -1.26574556  0.54739025 -0.18678537 -0.36325984\n",
            "  -0.15128909  1.27998692  0.95382154  1.05527951  1.8447863   0.80026761\n",
            "  -0.12361659  2.57782961]\n",
            " [ 1.23967567 -0.21658304 -1.14698582  2.38829019 -0.55416834 -0.36325984\n",
            "  -0.15128909 -0.31867191  0.95382154  1.05527951  1.8447863   0.80026761\n",
            "  -0.12361659  2.57782961]\n",
            " [ 1.57544795 -0.30494776 -1.14698582  1.895655   -0.55416834 -0.36325984\n",
            "   0.15878965 -1.91733074 -0.38050056  1.05527951  1.8447863   0.80026761\n",
            "  -0.12361659 -0.38792323]\n",
            " [-0.35524269 -0.47361587 -1.14698582  0.679912   -0.55416834 -0.36325984\n",
            "   1.39910458 -0.31867191 -0.38050056  1.05527951  1.8447863   0.80026761\n",
            "  -0.12361659 -0.38792323]\n",
            " [-1.11073033  1.10423709 -1.14698582  2.66485732  0.18059759 -0.36325984\n",
            "   0.77894711  1.27998692 -0.38050056  1.05527951  1.8447863   0.80026761\n",
            "  -0.12361659 -0.38792323]]\n"
          ],
          "name": "stdout"
        }
      ]
    },
    {
      "cell_type": "code",
      "metadata": {
        "id": "LjIjA_EEtxxp",
        "colab_type": "code",
        "colab": {}
      },
      "source": [
        "from sklearn.model_selection import train_test_split\n",
        "X_train, X_test, y_train, y_test = train_test_split(X, y, test_size=0.33,  shuffle=True, random_state=42)\n",
        "\n"
      ],
      "execution_count": 27,
      "outputs": []
    },
    {
      "cell_type": "code",
      "metadata": {
        "id": "r59Y5KEquXXC",
        "colab_type": "code",
        "colab": {
          "base_uri": "https://localhost:8080/",
          "height": 50
        },
        "outputId": "49d951ad-832d-48ec-dead-3d662a729777"
      },
      "source": [
        "#Import Libraries\n",
        "from sklearn.linear_model import SGDClassifier\n",
        "#----------------------------------------------------\n",
        "\n",
        "#----------------------------------------------------\n",
        "#Applying SGDClassifier Model \n",
        "\n",
        "\n",
        "\n",
        "SGDClassifierModel = SGDClassifier(penalty='l2',loss='squared_loss',learning_rate='optimal',random_state=33)\n",
        "SGDClassifierModel.fit(X_train, y_train)\n",
        "\n",
        "#Calculating Details\n",
        "print('SGDClassifierModel Train Score is : ' , SGDClassifierModel.score(X_train, y_train))\n",
        "print('SGDClassifierModel Test Score is : ' , SGDClassifierModel.score(X_test, y_test))\n",
        "#print('SGDClassifierModel loss function is : ' , SGDClassifierModel.loss_function_)\n",
        "#print('SGDClassifierModel No. of iteratios is : ' , SGDClassifierModel.n_iter_)\n"
      ],
      "execution_count": 33,
      "outputs": [
        {
          "output_type": "stream",
          "text": [
            "SGDClassifierModel Train Score is :  0.7305429259160203\n",
            "SGDClassifierModel Test Score is :  0.7326275787187839\n"
          ],
          "name": "stdout"
        }
      ]
    },
    {
      "cell_type": "code",
      "metadata": {
        "id": "qYv7lodhvpQj",
        "colab_type": "code",
        "colab": {
          "base_uri": "https://localhost:8080/",
          "height": 50
        },
        "outputId": "7615cd9e-2c84-4d44-8305-7879776b4f21"
      },
      "source": [
        "#Import Libraries\n",
        "from sklearn.linear_model import LogisticRegression\n",
        "#----------------------------------------------------\n",
        "\n",
        "#----------------------------------------------------\n",
        "#Applying LogisticRegression Model \n",
        "\n",
        "\n",
        "\n",
        "LogisticRegressionModel = LogisticRegression(penalty='l2',solver='sag',C=1.0,random_state=33)\n",
        "LogisticRegressionModel.fit(X_train, y_train)\n",
        "\n",
        "#Calculating Details\n",
        "print('LogisticRegressionModel Train Score is : ' , LogisticRegressionModel.score(X_train, y_train))\n",
        "print('LogisticRegressionModel Test Score is : ' , LogisticRegressionModel.score(X_test, y_test))\n",
        "#print('LogisticRegressionModel Classes are : ' , LogisticRegressionModel.classes_)\n",
        "#print('LogisticRegressionModel No. of iteratios is : ' , LogisticRegressionModel.n_iter_)\n",
        "#print('----------------------------------------------------')\n",
        "\n"
      ],
      "execution_count": 34,
      "outputs": [
        {
          "output_type": "stream",
          "text": [
            "LogisticRegressionModel Train Score is :  0.7945974859588125\n",
            "LogisticRegressionModel Test Score is :  0.7866449511400652\n"
          ],
          "name": "stdout"
        }
      ]
    },
    {
      "cell_type": "code",
      "metadata": {
        "id": "xK3fypS0v2h5",
        "colab_type": "code",
        "colab": {
          "base_uri": "https://localhost:8080/",
          "height": 196
        },
        "outputId": "9c056953-bab1-49fc-b0d9-a2521dbc8897"
      },
      "source": [
        "#Calculating Prediction\n",
        "y_pred = LogisticRegressionModel.predict(X_test)\n",
        "y_pred_prob = LogisticRegressionModel.predict_proba(X_test)\n",
        "print('Predicted Value for LogisticRegressionModel is : ' , y_pred[:10])\n",
        "print('Prediction Probabilities Value for LogisticRegressionModel is : ' , y_pred_prob[:10])"
      ],
      "execution_count": 36,
      "outputs": [
        {
          "output_type": "stream",
          "text": [
            "Predicted Value for LogisticRegressionModel is :  [0 1 1 1 0 1 0 0 1 1]\n",
            "Prediction Probabilities Value for LogisticRegressionModel is :  [[0.52702693 0.47297307]\n",
            " [0.03977478 0.96022522]\n",
            " [0.33705837 0.66294163]\n",
            " [0.05741587 0.94258413]\n",
            " [0.94871559 0.05128441]\n",
            " [0.21838962 0.78161038]\n",
            " [0.84736714 0.15263286]\n",
            " [0.94377449 0.05622551]\n",
            " [0.4245778  0.5754222 ]\n",
            " [0.1228227  0.8771773 ]]\n"
          ],
          "name": "stdout"
        }
      ]
    },
    {
      "cell_type": "code",
      "metadata": {
        "id": "qcr6TMKEwERh",
        "colab_type": "code",
        "colab": {
          "base_uri": "https://localhost:8080/",
          "height": 313
        },
        "outputId": "482d1c16-f16c-4b7f-8f37-f2d846e0af3c"
      },
      "source": [
        "#Import Libraries\n",
        "from sklearn.metrics import confusion_matrix\n",
        "import seaborn as sns\n",
        "import matplotlib.pyplot as plt\n",
        "\n",
        "#Calculating Confusion Matrix\n",
        "CM = confusion_matrix(y_test, y_pred)\n",
        "print('Confusion Matrix is : \\n', CM)\n",
        "\n",
        "# drawing confusion matrix\n",
        "sns.heatmap(CM, center = True)\n",
        "plt.show()"
      ],
      "execution_count": 38,
      "outputs": [
        {
          "output_type": "stream",
          "text": [
            "Confusion Matrix is : \n",
            " [[1587  330]\n",
            " [ 456 1311]]\n"
          ],
          "name": "stdout"
        },
        {
          "output_type": "display_data",
          "data": {
            "image/png": "[encoded data removed]",
            "text/plain": [
              "<Figure size 432x288 with 2 Axes>"
            ]
          },
          "metadata": {
            "tags": [],
            "needs_background": "light"
          }
        }
      ]
    }
  ]
}