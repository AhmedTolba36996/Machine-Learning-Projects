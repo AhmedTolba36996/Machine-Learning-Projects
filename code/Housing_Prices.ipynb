{
  "nbformat": 4,
  "nbformat_minor": 0,
  "metadata": {
    "colab": {
      "name": "Housing Prices.ipynb",
      "provenance": [],
      "private_outputs": true
    },
    "kernelspec": {
      "name": "python3",
      "display_name": "Python 3"
    },
    "accelerator": "GPU"
  },
  "cells": [
    {
      "cell_type": "code",
      "metadata": {
        "id": "BxzJkTLyAxrI",
        "colab_type": "code",
        "colab": {}
      },
      "source": [
        "from google.colab import files\n",
        "files.upload()"
      ],
      "execution_count": null,
      "outputs": []
    },
    {
      "cell_type": "code",
      "metadata": {
        "id": "QLa04G1BzH_7",
        "colab_type": "code",
        "colab": {}
      },
      "source": [
        "!pip install -q kaggle\n",
        "\n",
        "!mkdir -p ~/.kaggle\n",
        "!cp kaggle.json ~/.kaggle/\n",
        "\n",
        "# This permissions change avoids a warning on Kaggle tool startup.\n",
        "!chmod 600 ~/.kaggle/kaggle.json"
      ],
      "execution_count": null,
      "outputs": []
    },
    {
      "cell_type": "code",
      "metadata": {
        "id": "3Q116nW8zMnl",
        "colab_type": "code",
        "colab": {}
      },
      "source": [
        "!kaggle datasets download -d harlfoxem/housesalesprediction"
      ],
      "execution_count": null,
      "outputs": []
    },
    {
      "cell_type": "code",
      "metadata": {
        "id": "5Fd49hbBzNiH",
        "colab_type": "code",
        "colab": {}
      },
      "source": [
        "from zipfile import ZipFile\n",
        "file_name='/content/housesalesprediction.zip'\n",
        "with ZipFile(file_name,'r') as zip:\n",
        "  zip.extractall()"
      ],
      "execution_count": null,
      "outputs": []
    },
    {
      "cell_type": "code",
      "metadata": {
        "id": "nirxiPTnz0ut",
        "colab_type": "code",
        "colab": {}
      },
      "source": [
        "import numpy as np\n",
        "import pandas as pd\n",
        "import matplotlib.pyplot as plt\n",
        "import seaborn as sns\n",
        "import mpl_toolkits\n",
        "%matplotlib inline"
      ],
      "execution_count": null,
      "outputs": []
    },
    {
      "cell_type": "code",
      "metadata": {
        "id": "0E1blzi6z2n0",
        "colab_type": "code",
        "colab": {}
      },
      "source": [
        "data = pd.read_csv(\"/content/kc_house_data.csv\")\n"
      ],
      "execution_count": null,
      "outputs": []
    },
    {
      "cell_type": "code",
      "metadata": {
        "id": "fFS4Bkenz9KS",
        "colab_type": "code",
        "colab": {}
      },
      "source": [
        "data.head()"
      ],
      "execution_count": null,
      "outputs": []
    },
    {
      "cell_type": "code",
      "metadata": {
        "id": "kzZGmKlQ0G55",
        "colab_type": "code",
        "colab": {}
      },
      "source": [
        "data.describe()"
      ],
      "execution_count": null,
      "outputs": []
    },
    {
      "cell_type": "code",
      "metadata": {
        "id": "7hRgPFd20YwE",
        "colab_type": "code",
        "colab": {}
      },
      "source": [
        "data['bedrooms'].value_counts().plot(kind='bar')\n",
        "plt.title('number of Bedroom')\n",
        "plt.xlabel('Bedrooms')\n",
        "plt.ylabel('Count')\n",
        "sns.despine"
      ],
      "execution_count": null,
      "outputs": []
    },
    {
      "cell_type": "code",
      "metadata": {
        "id": "2PjG4wJb0i30",
        "colab_type": "code",
        "colab": {}
      },
      "source": [
        "\n",
        "data['bathrooms'].value_counts().plot(kind='bar')\n",
        "plt.title('number of bathrooms')\n",
        "plt.xlabel('bathrooms')\n",
        "plt.ylabel('Count')\n",
        "sns.despine"
      ],
      "execution_count": null,
      "outputs": []
    },
    {
      "cell_type": "code",
      "metadata": {
        "id": "CRzDWUjC0quU",
        "colab_type": "code",
        "colab": {}
      },
      "source": [
        "data['sqft_living'].value_counts().plot(kind='bar')\n",
        "plt.title('number of sqft_living')\n",
        "plt.xlabel('sqft_living')\n",
        "plt.ylabel('Count')\n",
        "sns.despine"
      ],
      "execution_count": null,
      "outputs": []
    },
    {
      "cell_type": "code",
      "metadata": {
        "id": "LUto5vTc09E5",
        "colab_type": "code",
        "colab": {}
      },
      "source": [
        "plt.scatter(data.price,data.sqft_living)\n",
        "plt.title(\"Price vs Square Feet\")"
      ],
      "execution_count": null,
      "outputs": []
    },
    {
      "cell_type": "code",
      "metadata": {
        "id": "H_prKIWv1iS3",
        "colab_type": "code",
        "colab": {}
      },
      "source": [
        "plt.scatter(data.price,data.waterfront)\n",
        "plt.title(\"Price vs  waterfront\")"
      ],
      "execution_count": null,
      "outputs": []
    },
    {
      "cell_type": "code",
      "metadata": {
        "id": "qlXkYVuy1_tD",
        "colab_type": "code",
        "colab": {}
      },
      "source": [
        "plt.scatter(data.floors,data.price)\n",
        "plt.title(\"Price vs  floors\")\n"
      ],
      "execution_count": null,
      "outputs": []
    },
    {
      "cell_type": "code",
      "metadata": {
        "id": "QoOVpOYV2UHD",
        "colab_type": "code",
        "colab": {}
      },
      "source": [
        "labels = data['price']"
      ],
      "execution_count": null,
      "outputs": []
    },
    {
      "cell_type": "code",
      "metadata": {
        "id": "b3tktnF04FGM",
        "colab_type": "code",
        "colab": {}
      },
      "source": [
        "labels.head(5)"
      ],
      "execution_count": null,
      "outputs": []
    },
    {
      "cell_type": "code",
      "metadata": {
        "id": "rwT9lZWe28jr",
        "colab_type": "code",
        "colab": {}
      },
      "source": [
        "data = data.drop(['price' , 'id' ,'waterfront' ] , axis = 1)"
      ],
      "execution_count": null,
      "outputs": []
    },
    {
      "cell_type": "code",
      "metadata": {
        "id": "BOUEGj4f4ojE",
        "colab_type": "code",
        "colab": {}
      },
      "source": [
        "conv_dates = [1 if values == 2014 else 0 for values in data.date ]\n",
        "data['date'] = conv_dates"
      ],
      "execution_count": null,
      "outputs": []
    },
    {
      "cell_type": "code",
      "metadata": {
        "id": "asgwtVIg4zQH",
        "colab_type": "code",
        "colab": {}
      },
      "source": [
        "data.head(5)"
      ],
      "execution_count": null,
      "outputs": []
    },
    {
      "cell_type": "code",
      "metadata": {
        "id": "YcjIXvHH3TgA",
        "colab_type": "code",
        "colab": {}
      },
      "source": [
        "# Import Libraries\n",
        "from sklearn.preprocessing import StandardScaler\n",
        "#----------------------------------------------------\n",
        "\n",
        "#----------------------------------------------------\n",
        "#Standard Scaler for Data\n",
        "\n",
        "scaler = StandardScaler(copy=True, with_mean=True, with_std=True)\n",
        "data = scaler.fit_transform(data)\n",
        "\n",
        "#showing data\n",
        "print('data \\n' , data[:5])\n"
      ],
      "execution_count": null,
      "outputs": []
    },
    {
      "cell_type": "code",
      "metadata": {
        "id": "M6Yh6pFD5Gj6",
        "colab_type": "code",
        "colab": {}
      },
      "source": [
        "from sklearn.model_selection import train_test_split\n",
        "X_train, X_test, y_train, y_test = train_test_split(data, labels, test_size=0.33,  shuffle=True, random_state=42)\n",
        "\n",
        "print('X_train \\n' , X_train)\n",
        "print('X_test \\n' , X_test)\n",
        "print('y_train \\n' ,y_train)\n",
        "print('y_test \\n' , y_test)"
      ],
      "execution_count": null,
      "outputs": []
    },
    {
      "cell_type": "code",
      "metadata": {
        "id": "m68Jg3J95wNw",
        "colab_type": "code",
        "colab": {}
      },
      "source": [
        "# Import Libraries\n",
        "from sklearn.linear_model import LinearRegression\n",
        "\n",
        "#Applying Linear Regression Model \n",
        "LinearRegressionModel = LinearRegression(fit_intercept=True, normalize=True,copy_X=True,n_jobs=-1)\n",
        "LinearRegressionModel.fit(X_train, y_train)\n",
        "\n",
        "#Calculating Details\n",
        "print('Linear Regression Train Score is : ' , LinearRegressionModel.score(X_train, y_train))\n",
        "print('Linear Regression Test Score is : ' , LinearRegressionModel.score(X_test, y_test))\n",
        "\n"
      ],
      "execution_count": null,
      "outputs": []
    },
    {
      "cell_type": "code",
      "metadata": {
        "id": "RrBFIeUR6GD8",
        "colab_type": "code",
        "colab": {}
      },
      "source": [
        "#Import Libraries\n",
        "from sklearn.neighbors import KNeighborsRegressor\n",
        "#----------------------------------------------------\n",
        "\n",
        "#----------------------------------------------------\n",
        "#Applying KNeighborsRegressor Model \n",
        "\n",
        "KNeighborsRegressorModel = KNeighborsRegressor(n_neighbors = 5, weights='uniform', #also can be : distance, or defined function \n",
        "                                               algorithm = 'auto')    #also can be : ball_tree ,  kd_tree  , brute\n",
        "KNeighborsRegressorModel.fit(X_train, y_train)\n",
        "\n",
        "#Calculating Details\n",
        "print('KNeighborsRegressorModel Train Score is : ' , KNeighborsRegressorModel.score(X_train, y_train))\n",
        "print('KNeighborsRegressorModel Test Score is : ' , KNeighborsRegressorModel.score(X_test, y_test))\n",
        "\n"
      ],
      "execution_count": null,
      "outputs": []
    },
    {
      "cell_type": "code",
      "metadata": {
        "id": "g2tgen5z6ehK",
        "colab_type": "code",
        "colab": {}
      },
      "source": [
        "#Import Libraries\n",
        "from sklearn.ensemble import GradientBoostingRegressor\n",
        "#----------------------------------------------------\n",
        "\n",
        "#----------------------------------------------------\n",
        "#Applying Gradient Boosting Regressor Model \n",
        "\n",
        "GBRModel = GradientBoostingRegressor(n_estimators=100,max_depth=2,learning_rate = 1.5 ,random_state=33)\n",
        "GBRModel.fit(X_train, y_train)\n",
        "\n",
        "#Calculating Details\n",
        "print('GBRModel Train Score is : ' , GBRModel.score(X_train, y_train))\n",
        "print('GBRModel Test Score is : ' , GBRModel.score(X_test, y_test))\n",
        "#print('----------------------------------------------------')\n"
      ],
      "execution_count": null,
      "outputs": []
    },
    {
      "cell_type": "code",
      "metadata": {
        "id": "Zb5U35J06YID",
        "colab_type": "code",
        "colab": {}
      },
      "source": [
        "#Calculating Prediction\n",
        "y_pred = GBRModel.predict(X_test)\n",
        "print('Predicted Value for GBRModel is : ' , y_pred[:5])"
      ],
      "execution_count": null,
      "outputs": []
    },
    {
      "cell_type": "code",
      "metadata": {
        "id": "VZJnRyNO7D4v",
        "colab_type": "code",
        "colab": {}
      },
      "source": [
        ""
      ],
      "execution_count": null,
      "outputs": []
    }
  ]
}